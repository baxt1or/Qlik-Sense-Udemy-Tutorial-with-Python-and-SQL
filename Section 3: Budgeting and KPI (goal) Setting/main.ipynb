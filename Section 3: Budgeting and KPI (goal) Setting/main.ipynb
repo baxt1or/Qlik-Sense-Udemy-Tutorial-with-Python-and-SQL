{
 "cells": [
  {
   "cell_type": "code",
   "execution_count": 1,
   "metadata": {},
   "outputs": [],
   "source": [
    "import pandas as pd \n",
    "import numpy as np\n",
    "import seaborn as sns \n",
    "import matplotlib.pyplot as plt"
   ]
  },
  {
   "cell_type": "code",
   "execution_count": 3,
   "metadata": {},
   "outputs": [
    {
     "data": {
      "text/html": [
       "<div>\n",
       "<style scoped>\n",
       "    .dataframe tbody tr th:only-of-type {\n",
       "        vertical-align: middle;\n",
       "    }\n",
       "\n",
       "    .dataframe tbody tr th {\n",
       "        vertical-align: top;\n",
       "    }\n",
       "\n",
       "    .dataframe thead th {\n",
       "        text-align: right;\n",
       "    }\n",
       "</style>\n",
       "<table border=\"1\" class=\"dataframe\">\n",
       "  <thead>\n",
       "    <tr style=\"text-align: right;\">\n",
       "      <th></th>\n",
       "      <th>YearMonth</th>\n",
       "      <th>Year</th>\n",
       "      <th>Month</th>\n",
       "      <th>MonthAbbr</th>\n",
       "      <th>MonthNbr</th>\n",
       "      <th>Date</th>\n",
       "      <th>Day</th>\n",
       "      <th>DayAbbr</th>\n",
       "    </tr>\n",
       "  </thead>\n",
       "  <tbody>\n",
       "    <tr>\n",
       "      <th>0</th>\n",
       "      <td>202012</td>\n",
       "      <td>2020</td>\n",
       "      <td>December</td>\n",
       "      <td>Dec</td>\n",
       "      <td>12</td>\n",
       "      <td>2020-12-01</td>\n",
       "      <td>Tuesday</td>\n",
       "      <td>Tue</td>\n",
       "    </tr>\n",
       "    <tr>\n",
       "      <th>1</th>\n",
       "      <td>202012</td>\n",
       "      <td>2020</td>\n",
       "      <td>December</td>\n",
       "      <td>Dec</td>\n",
       "      <td>12</td>\n",
       "      <td>2020-12-02</td>\n",
       "      <td>Wednesday</td>\n",
       "      <td>Wed</td>\n",
       "    </tr>\n",
       "    <tr>\n",
       "      <th>2</th>\n",
       "      <td>202012</td>\n",
       "      <td>2020</td>\n",
       "      <td>December</td>\n",
       "      <td>Dec</td>\n",
       "      <td>12</td>\n",
       "      <td>2020-12-03</td>\n",
       "      <td>Thursday</td>\n",
       "      <td>Thu</td>\n",
       "    </tr>\n",
       "    <tr>\n",
       "      <th>3</th>\n",
       "      <td>202012</td>\n",
       "      <td>2020</td>\n",
       "      <td>December</td>\n",
       "      <td>Dec</td>\n",
       "      <td>12</td>\n",
       "      <td>2020-12-04</td>\n",
       "      <td>Friday</td>\n",
       "      <td>Fri</td>\n",
       "    </tr>\n",
       "    <tr>\n",
       "      <th>4</th>\n",
       "      <td>202012</td>\n",
       "      <td>2020</td>\n",
       "      <td>December</td>\n",
       "      <td>Dec</td>\n",
       "      <td>12</td>\n",
       "      <td>2020-12-05</td>\n",
       "      <td>Saturday</td>\n",
       "      <td>Sat</td>\n",
       "    </tr>\n",
       "  </tbody>\n",
       "</table>\n",
       "</div>"
      ],
      "text/plain": [
       "   YearMonth  Year     Month MonthAbbr  MonthNbr       Date        Day DayAbbr\n",
       "0     202012  2020  December       Dec        12 2020-12-01    Tuesday     Tue\n",
       "1     202012  2020  December       Dec        12 2020-12-02  Wednesday     Wed\n",
       "2     202012  2020  December       Dec        12 2020-12-03   Thursday     Thu\n",
       "3     202012  2020  December       Dec        12 2020-12-04     Friday     Fri\n",
       "4     202012  2020  December       Dec        12 2020-12-05   Saturday     Sat"
      ]
     },
     "execution_count": 3,
     "metadata": {},
     "output_type": "execute_result"
    }
   ],
   "source": [
    "df = pd.read_excel(\"./datasets/CalendarAndMonthlyBudget.xlsx\")\n",
    "\n",
    "df.head()"
   ]
  }
 ],
 "metadata": {
  "kernelspec": {
   "display_name": "Python 3",
   "language": "python",
   "name": "python3"
  },
  "language_info": {
   "codemirror_mode": {
    "name": "ipython",
    "version": 3
   },
   "file_extension": ".py",
   "mimetype": "text/x-python",
   "name": "python",
   "nbconvert_exporter": "python",
   "pygments_lexer": "ipython3",
   "version": "3.13.1"
  }
 },
 "nbformat": 4,
 "nbformat_minor": 2
}
